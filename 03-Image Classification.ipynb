{
 "cells": [
  {
   "cell_type": "code",
   "execution_count": 1,
   "id": "timely-funds",
   "metadata": {},
   "outputs": [],
   "source": [
    "import torch\n",
    "import torchvision\n",
    "from torchvision.datasets import MNIST "
   ]
  },
  {
   "cell_type": "code",
   "execution_count": 2,
   "id": "falling-seeker",
   "metadata": {},
   "outputs": [],
   "source": [
    "dataset = MNIST(root='datasets/', download=True)"
   ]
  },
  {
   "cell_type": "code",
   "execution_count": 3,
   "id": "approximate-philadelphia",
   "metadata": {},
   "outputs": [
    {
     "data": {
      "text/plain": [
       "60000"
      ]
     },
     "execution_count": 3,
     "metadata": {},
     "output_type": "execute_result"
    }
   ],
   "source": [
    "len(dataset)"
   ]
  },
  {
   "cell_type": "code",
   "execution_count": 4,
   "id": "changing-guyana",
   "metadata": {},
   "outputs": [
    {
     "data": {
      "text/plain": [
       "10000"
      ]
     },
     "execution_count": 4,
     "metadata": {},
     "output_type": "execute_result"
    }
   ],
   "source": [
    "test_dataset = MNIST(root='datasets/', train=False)\n",
    "len(test_dataset)"
   ]
  },
  {
   "cell_type": "code",
   "execution_count": 5,
   "id": "quality-minnesota",
   "metadata": {},
   "outputs": [],
   "source": [
    "import matplotlib.pyplot as plt\n",
    "%matplotlib inline"
   ]
  },
  {
   "cell_type": "code",
   "execution_count": 6,
   "id": "athletic-cooler",
   "metadata": {},
   "outputs": [
    {
     "name": "stdout",
     "output_type": "stream",
     "text": [
      "Label:  5\n"
     ]
    },
    {
     "data": {
      "image/png": "[encoded data removed]",
      "text/plain": [
       "<Figure size 432x288 with 1 Axes>"
      ]
     },
     "metadata": {
      "needs_background": "light"
     },
     "output_type": "display_data"
    }
   ],
   "source": [
    "image, label = dataset[0]\n",
    "plt.imshow(image, cmap='gray')\n",
    "print('Label: ', label)"
   ]
  },
  {
   "cell_type": "code",
   "execution_count": 7,
   "id": "fixed-pillow",
   "metadata": {},
   "outputs": [],
   "source": [
    "from torchvision.transforms import transforms\n",
    "\n",
    "dataset = MNIST(root='datasets/',\n",
    "               train=True,\n",
    "               transform=transforms.ToTensor())"
   ]
  },
  {
   "cell_type": "code",
   "execution_count": 8,
   "id": "ongoing-depression",
   "metadata": {},
   "outputs": [
    {
     "name": "stdout",
     "output_type": "stream",
     "text": [
      "torch.Size([1, 28, 28]) 5\n"
     ]
    }
   ],
   "source": [
    "img_tensor, label = dataset[0]\n",
    "\n",
    "print(img_tensor.shape, label)"
   ]
  },
  {
   "cell_type": "code",
   "execution_count": 9,
   "id": "sweet-poison",
   "metadata": {},
   "outputs": [
    {
     "name": "stdout",
     "output_type": "stream",
     "text": [
      "tensor([[[0.0039, 0.6039, 0.9922, 0.3529, 0.0000],\n",
      "         [0.0000, 0.5451, 0.9922, 0.7451, 0.0078],\n",
      "         [0.0000, 0.0431, 0.7451, 0.9922, 0.2745],\n",
      "         [0.0000, 0.0000, 0.1373, 0.9451, 0.8824],\n",
      "         [0.0000, 0.0000, 0.0000, 0.3176, 0.9412]]])\n",
      "tensor(1.) tensor(0.)\n"
     ]
    }
   ],
   "source": [
    "print(img_tensor[:, 10:15, 10:15])\n",
    "print(torch.max(img_tensor), torch.min(img_tensor))"
   ]
  },
  {
   "cell_type": "code",
   "execution_count": 10,
   "id": "statewide-faculty",
   "metadata": {},
   "outputs": [
    {
     "data": {
      "text/plain": [
       "<matplotlib.image.AxesImage at 0x7f8833ca3880>"
      ]
     },
     "execution_count": 10,
     "metadata": {},
     "output_type": "execute_result"
    },
    {
     "data": {
      "image/png": "[encoded data removed]",
      "text/plain": [
       "<Figure size 432x288 with 1 Axes>"
      ]
     },
     "metadata": {
      "needs_background": "light"
     },
     "output_type": "display_data"
    }
   ],
   "source": [
    "plt.imshow(img_tensor[0, 10:15, 10:15], cmap='gray')"
   ]
  },
  {
   "cell_type": "code",
   "execution_count": 11,
   "id": "industrial-bundle",
   "metadata": {},
   "outputs": [],
   "source": [
    "import numpy as np\n",
    "\n",
    "def split_indices(n, val_pct):  #size of dataset, validation dataset percentage\n",
    "    n_val = int(val_pct*n)\n",
    "    indices = np.random.permutation(n)\n",
    "    return indices[n_val:], indices[:n_val]"
   ]
  },
  {
   "cell_type": "code",
   "execution_count": 12,
   "id": "higher-nylon",
   "metadata": {},
   "outputs": [],
   "source": [
    "train_indices, val_indices = split_indices(len(dataset), 0.2)"
   ]
  },
  {
   "cell_type": "code",
   "execution_count": 13,
   "id": "amended-insert",
   "metadata": {},
   "outputs": [
    {
     "name": "stdout",
     "output_type": "stream",
     "text": [
      "48000 12000\n",
      "sample val indices:  [56833  1524 27042  8377 53440 53006 31455 13632 24278 50751 39500 39256\n",
      " 41436  7047  5756 42621 37709 10308 26538 10487]\n"
     ]
    }
   ],
   "source": [
    "print(len(train_indices), len(val_indices))\n",
    "print('sample val indices: ', val_indices[:20])"
   ]
  },
  {
   "cell_type": "code",
   "execution_count": 14,
   "id": "english-russell",
   "metadata": {},
   "outputs": [],
   "source": [
    "from torch.utils.data import SubsetRandomSampler\n",
    "from torch.utils.data.dataloader import DataLoader"
   ]
  },
  {
   "cell_type": "code",
   "execution_count": 15,
   "id": "renewable-chocolate",
   "metadata": {},
   "outputs": [],
   "source": [
    "batch_size = 100\n",
    "\n",
    "train_sampler = SubsetRandomSampler(train_indices)\n",
    "train_loader = DataLoader(dataset,\n",
    "                          batch_size,\n",
    "                          sampler=train_sampler)\n",
    "\n",
    "val_sampler = SubsetRandomSampler(val_indices)\n",
    "val_loader = DataLoader(dataset,\n",
    "                        batch_size,\n",
    "                        sampler=val_sampler)"
   ]
  },
  {
   "cell_type": "code",
   "execution_count": 16,
   "id": "exciting-harris",
   "metadata": {},
   "outputs": [],
   "source": [
    "import torch.nn as nn\n",
    "\n",
    "input_size = 28*28\n",
    "num_classes = 10\n",
    "\n",
    "model = nn.Linear(input_size, num_classes)"
   ]
  },
  {
   "cell_type": "code",
   "execution_count": 17,
   "id": "bibliographic-theater",
   "metadata": {},
   "outputs": [
    {
     "name": "stdout",
     "output_type": "stream",
     "text": [
      "torch.Size([10, 784])\n"
     ]
    },
    {
     "data": {
      "text/plain": [
       "Parameter containing:\n",
       "tensor([[ 0.0008, -0.0123,  0.0303,  ..., -0.0231,  0.0085,  0.0065],\n",
       "        [-0.0123, -0.0061,  0.0338,  ..., -0.0352,  0.0247, -0.0342],\n",
       "        [ 0.0284, -0.0195,  0.0254,  ..., -0.0170, -0.0254, -0.0066],\n",
       "        ...,\n",
       "        [ 0.0290, -0.0100, -0.0127,  ..., -0.0014,  0.0073, -0.0353],\n",
       "        [ 0.0302,  0.0236, -0.0023,  ...,  0.0344, -0.0008,  0.0113],\n",
       "        [-0.0191,  0.0253, -0.0320,  ..., -0.0174, -0.0257,  0.0022]],\n",
       "       requires_grad=True)"
      ]
     },
     "execution_count": 17,
     "metadata": {},
     "output_type": "execute_result"
    }
   ],
   "source": [
    "print(model.weight.shape)\n",
    "model.weight"
   ]
  },
  {
   "cell_type": "code",
   "execution_count": 18,
   "id": "passive-effectiveness",
   "metadata": {},
   "outputs": [],
   "source": [
    "# for images, labels in train_loader:\n",
    "#     print(labels)\n",
    "#     print(images.shape)\n",
    "#     outputs = model(images)\n",
    "#     break"
   ]
  },
  {
   "cell_type": "code",
   "execution_count": 19,
   "id": "contrary-arrangement",
   "metadata": {},
   "outputs": [],
   "source": [
    "class MnistModel(nn.Module):\n",
    "    def __init__(self):\n",
    "        super().__init__()\n",
    "        self.linear = nn.Linear(input_size, num_classes)\n",
    "        \n",
    "    def forward(self, xb):\n",
    "        xb = xb.reshape(-1, 784)\n",
    "        out = self.linear(xb)\n",
    "        return out\n",
    "\n",
    "model = MnistModel()        "
   ]
  },
  {
   "cell_type": "code",
   "execution_count": 20,
   "id": "unique-translation",
   "metadata": {},
   "outputs": [
    {
     "name": "stdout",
     "output_type": "stream",
     "text": [
      "torch.Size([10, 784]) torch.Size([10])\n"
     ]
    },
    {
     "data": {
      "text/plain": [
       "[Parameter containing:\n",
       " tensor([[ 0.0192, -0.0301,  0.0257,  ...,  0.0325,  0.0152,  0.0243],\n",
       "         [-0.0044,  0.0101,  0.0225,  ...,  0.0029, -0.0013, -0.0284],\n",
       "         [-0.0242,  0.0321,  0.0061,  ...,  0.0087, -0.0105, -0.0283],\n",
       "         ...,\n",
       "         [ 0.0221,  0.0171, -0.0243,  ...,  0.0290, -0.0314, -0.0119],\n",
       "         [ 0.0223, -0.0244,  0.0086,  ...,  0.0216, -0.0319,  0.0124],\n",
       "         [ 0.0283,  0.0068,  0.0008,  ..., -0.0280,  0.0238,  0.0259]],\n",
       "        requires_grad=True),\n",
       " Parameter containing:\n",
       " tensor([-0.0150,  0.0351,  0.0294, -0.0275, -0.0046, -0.0017, -0.0223, -0.0020,\n",
       "         -0.0145,  0.0079], requires_grad=True)]"
      ]
     },
     "execution_count": 20,
     "metadata": {},
     "output_type": "execute_result"
    }
   ],
   "source": [
    "print(model.linear.weight.shape, model.linear.bias.shape)\n",
    "list(model.parameters())"
   ]
  },
  {
   "cell_type": "code",
   "execution_count": 21,
   "id": "southwest-merchant",
   "metadata": {},
   "outputs": [
    {
     "name": "stdout",
     "output_type": "stream",
     "text": [
      "output shape:  torch.Size([100, 10])\n",
      "sample outputs: \n",
      " tensor([[ 0.0051, -0.1095,  0.1660, -0.1472,  0.1532,  0.3504, -0.2616,  0.1947,\n",
      "         -0.0400, -0.0877],\n",
      "        [ 0.1028,  0.2045,  0.0298, -0.3235, -0.3089,  0.2064, -0.0456, -0.0193,\n",
      "         -0.0708, -0.1620]])\n"
     ]
    }
   ],
   "source": [
    "for images, labels in train_loader:\n",
    "    outputs = model(images)\n",
    "    break\n",
    "    \n",
    "print('output shape: ', outputs.shape)\n",
    "print('sample outputs: \\n', outputs[:2].data)"
   ]
  },
  {
   "cell_type": "code",
   "execution_count": 22,
   "id": "prospective-kingston",
   "metadata": {},
   "outputs": [],
   "source": [
    "import torch.nn.functional as F"
   ]
  },
  {
   "cell_type": "code",
   "execution_count": 23,
   "id": "interim-recorder",
   "metadata": {},
   "outputs": [
    {
     "name": "stdout",
     "output_type": "stream",
     "text": [
      "Sample Probabilities: \n",
      " tensor([[0.0967, 0.0862, 0.1136, 0.0831, 0.1122, 0.1366, 0.0741, 0.1169, 0.0925,\n",
      "         0.0881],\n",
      "        [0.1134, 0.1256, 0.1054, 0.0741, 0.0751, 0.1258, 0.0978, 0.1004, 0.0953,\n",
      "         0.0870]])\n",
      "Sum:  1.0\n"
     ]
    }
   ],
   "source": [
    "probs = F.softmax(outputs, dim=1)\n",
    "\n",
    "print(\"Sample Probabilities: \\n\", probs[:2].data)\n",
    "print(\"Sum: \", torch.sum(probs[0]).item())"
   ]
  },
  {
   "cell_type": "code",
   "execution_count": 24,
   "id": "optional-boxing",
   "metadata": {},
   "outputs": [
    {
     "name": "stdout",
     "output_type": "stream",
     "text": [
      "tensor([5, 5, 5, 1, 2, 5, 5, 5, 5, 5, 5, 5, 5, 1, 5, 5, 5, 5, 5, 1, 5, 2, 5, 5,\n",
      "        5, 5, 5, 5, 5, 5, 2, 1, 5, 5, 1, 1, 3, 5, 1, 5, 5, 5, 5, 5, 5, 5, 5, 5,\n",
      "        5, 5, 0, 9, 5, 5, 5, 5, 1, 5, 5, 4, 5, 1, 1, 5, 1, 5, 1, 2, 5, 5, 2, 5,\n",
      "        2, 1, 5, 5, 9, 5, 5, 2, 5, 5, 1, 5, 5, 5, 5, 5, 9, 4, 5, 5, 2, 1, 5, 5,\n",
      "        5, 1, 7, 5])\n",
      "tensor([0.1366, 0.1258, 0.1422, 0.1324, 0.1396, 0.1296, 0.1578, 0.1515, 0.1406,\n",
      "        0.1411, 0.1614, 0.1377, 0.1308, 0.1147, 0.1370, 0.1276, 0.1431, 0.1387,\n",
      "        0.1351, 0.1350, 0.1556, 0.1232, 0.1620, 0.1607, 0.1174, 0.1485, 0.1352,\n",
      "        0.1304, 0.1674, 0.1384, 0.1668, 0.1298, 0.1427, 0.1452, 0.1661, 0.1275,\n",
      "        0.1298, 0.1569, 0.1403, 0.1329, 0.1587, 0.1823, 0.1686, 0.1544, 0.1569,\n",
      "        0.1353, 0.1338, 0.1375, 0.1403, 0.1264, 0.1395, 0.1298, 0.1472, 0.1465,\n",
      "        0.1572, 0.1337, 0.1456, 0.1647, 0.1403, 0.1202, 0.1424, 0.1270, 0.1224,\n",
      "        0.1434, 0.1190, 0.1589, 0.1212, 0.1521, 0.1356, 0.1626, 0.1323, 0.1385,\n",
      "        0.1341, 0.1204, 0.1131, 0.1408, 0.1210, 0.1346, 0.1341, 0.1325, 0.1217,\n",
      "        0.1308, 0.1158, 0.1414, 0.1544, 0.1387, 0.1318, 0.1676, 0.1230, 0.1220,\n",
      "        0.1588, 0.1447, 0.1190, 0.1268, 0.1390, 0.1870, 0.1489, 0.1371, 0.1322,\n",
      "        0.1483], grad_fn=<MaxBackward0>)\n"
     ]
    }
   ],
   "source": [
    "max_probs, preds = torch.max(probs, dim=1)\n",
    "print(preds)\n",
    "print(max_probs)"
   ]
  },
  {
   "cell_type": "code",
   "execution_count": 25,
   "id": "indoor-heading",
   "metadata": {},
   "outputs": [
    {
     "data": {
      "text/plain": [
       "tensor([9, 9, 6, 5, 5, 9, 5, 5, 6, 0, 6, 7, 5, 1, 9, 9, 5, 9, 8, 3, 5, 4, 7, 8,\n",
       "        9, 4, 6, 6, 4, 6, 0, 6, 3, 9, 1, 1, 6, 2, 7, 6, 2, 5, 0, 5, 6, 9, 2, 0,\n",
       "        3, 6, 4, 2, 3, 3, 9, 7, 3, 0, 6, 6, 4, 1, 8, 4, 4, 8, 9, 5, 4, 0, 3, 6,\n",
       "        3, 7, 1, 2, 1, 5, 9, 6, 4, 3, 7, 9, 0, 8, 2, 3, 6, 6, 0, 0, 9, 4, 6, 0,\n",
       "        4, 7, 0, 9])"
      ]
     },
     "execution_count": 25,
     "metadata": {},
     "output_type": "execute_result"
    }
   ],
   "source": [
    "labels"
   ]
  },
  {
   "cell_type": "code",
   "execution_count": 26,
   "id": "arranged-decrease",
   "metadata": {},
   "outputs": [],
   "source": [
    "def accuracy(l1, l2):\n",
    "    return torch.sum(l1 == l2).item()/len(l1)"
   ]
  },
  {
   "cell_type": "code",
   "execution_count": 27,
   "id": "cathedral-tomorrow",
   "metadata": {},
   "outputs": [
    {
     "data": {
      "text/plain": [
       "0.12"
      ]
     },
     "execution_count": 27,
     "metadata": {},
     "output_type": "execute_result"
    }
   ],
   "source": [
    "accuracy(preds, labels)"
   ]
  },
  {
   "cell_type": "code",
   "execution_count": 28,
   "id": "meaningful-andorra",
   "metadata": {},
   "outputs": [],
   "source": [
    "loss_fn = F.cross_entropy"
   ]
  },
  {
   "cell_type": "code",
   "execution_count": 29,
   "id": "specific-berry",
   "metadata": {},
   "outputs": [
    {
     "name": "stdout",
     "output_type": "stream",
     "text": [
      "tensor(2.3569, grad_fn=<NllLossBackward>)\n"
     ]
    }
   ],
   "source": [
    "loss = loss_fn(outputs, labels)\n",
    "print(loss)"
   ]
  },
  {
   "cell_type": "code",
   "execution_count": 30,
   "id": "reverse-queensland",
   "metadata": {},
   "outputs": [],
   "source": [
    "learning_rate = 0.001\n",
    "optimizer = torch.optim.SGD(model.parameters(), lr=learning_rate)"
   ]
  },
  {
   "cell_type": "code",
   "execution_count": 31,
   "id": "frozen-think",
   "metadata": {},
   "outputs": [],
   "source": [
    "def loss_batch(model, loss_func, xb, yb, opt=None, metric=None):\n",
    "    preds = model(xb)\n",
    "    loss = loss_func(preds, yb)\n",
    "    \n",
    "    if opt is not None:\n",
    "        loss.backward()\n",
    "        opt.step()\n",
    "        opt.zero_grad()\n",
    "    \n",
    "    metric_result = None\n",
    "    if metric is not None:\n",
    "        metric_result = metric(preds, yb)\n",
    "    \n",
    "    return loss.item(), len(xb), metric_result"
   ]
  },
  {
   "cell_type": "code",
   "execution_count": 32,
   "id": "catholic-reminder",
   "metadata": {},
   "outputs": [],
   "source": [
    "def evaluate(model, loss_fn, valid_dl, metric=None):\n",
    "    with torch.no_grad():\n",
    "        results = [loss_batch(model, loss_fn, xb, yb, metric=metric)\n",
    "                  for xb, yb in valid_dl]\n",
    "        losses, nums, metrics = zip(*results)\n",
    "        \n",
    "        total = np.sum(nums)\n",
    "        \n",
    "        avg_loss = np.sum(np.multiply(losses, nums)) / total\n",
    "        avg_metric = None\n",
    "        if metric is not None:\n",
    "            avg_metric = np.sum(np.multiply(metrics, nums)) / total\n",
    "    \n",
    "    return avg_loss, total, avg_metric"
   ]
  },
  {
   "cell_type": "code",
   "execution_count": 33,
   "id": "burning-pontiac",
   "metadata": {},
   "outputs": [],
   "source": [
    "def accuracy(outputs, labels):\n",
    "    _, preds = torch.max(outputs, dim=1)\n",
    "    return torch.sum(preds == labels).item() / len(preds)"
   ]
  },
  {
   "cell_type": "code",
   "execution_count": 34,
   "id": "mexican-scott",
   "metadata": {},
   "outputs": [
    {
     "name": "stdout",
     "output_type": "stream",
     "text": [
      "Loss: 2.34049707253774, Accuracy: 0.14008333333333334\n"
     ]
    }
   ],
   "source": [
    "val_loss, total, val_acc = evaluate(model, loss_fn, val_loader, metric=accuracy)\n",
    "print(f'Loss: {val_loss}, Accuracy: {val_acc}')"
   ]
  },
  {
   "cell_type": "code",
   "execution_count": 35,
   "id": "small-atlanta",
   "metadata": {},
   "outputs": [],
   "source": [
    "def fit(epochs, model, loss_fn, opt, train_dl, valid_dl, metric=None):\n",
    "    for epoch in range(epochs):\n",
    "        for xb, yb in train_dl:\n",
    "            loss, _, _ = loss_batch(model, loss_fn, xb, yb, opt)\n",
    "            \n",
    "        result = evaluate(model, loss_fn, valid_dl, metric)\n",
    "        val_loss, total, val_metric = result\n",
    "        \n",
    "        if metric is None:\n",
    "            print(f'Epoch [{epoch+1}/{epochs}] Loss: {val_loss}')\n",
    "        else:\n",
    "            print(f'Epoch [{epoch+1}/{epochs}], Loss: {val_loss}, {metric.__name__}: {val_metric}')"
   ]
  },
  {
   "cell_type": "code",
   "execution_count": 36,
   "id": "juvenile-elevation",
   "metadata": {},
   "outputs": [],
   "source": [
    "model = MnistModel() \n",
    "optimizer = torch.optim.SGD(model.parameters(), lr=learning_rate)"
   ]
  },
  {
   "cell_type": "code",
   "execution_count": 37,
   "id": "ecological-literacy",
   "metadata": {
    "scrolled": true
   },
   "outputs": [
    {
     "name": "stdout",
     "output_type": "stream",
     "text": [
      "Epoch [1/5], Loss: 1.9117638349533081, accuracy: 0.6535\n",
      "Epoch [2/5], Loss: 1.6020412355661393, accuracy: 0.75725\n",
      "Epoch [3/5], Loss: 1.384222141901652, accuracy: 0.78825\n",
      "Epoch [4/5], Loss: 1.2278799613316853, accuracy: 0.806\n",
      "Epoch [5/5], Loss: 1.1120926668246587, accuracy: 0.81725\n"
     ]
    }
   ],
   "source": [
    "fit(5, model, F.cross_entropy, optimizer, train_loader, val_loader, accuracy)"
   ]
  },
  {
   "cell_type": "code",
   "execution_count": 38,
   "id": "remarkable-right",
   "metadata": {},
   "outputs": [
    {
     "name": "stdout",
     "output_type": "stream",
     "text": [
      "Epoch [1/5], Loss: 1.0236639440059663, accuracy: 0.8244166666666667\n",
      "Epoch [2/5], Loss: 0.9540367181102435, accuracy: 0.8318333333333333\n",
      "Epoch [3/5], Loss: 0.8980131487051646, accuracy: 0.8363333333333334\n",
      "Epoch [4/5], Loss: 0.8518275797367096, accuracy: 0.8395833333333333\n",
      "Epoch [5/5], Loss: 0.8131103083491326, accuracy: 0.84225\n"
     ]
    }
   ],
   "source": [
    "fit(5, model, F.cross_entropy, optimizer, train_loader, val_loader, accuracy)"
   ]
  },
  {
   "cell_type": "code",
   "execution_count": 39,
   "id": "social-communist",
   "metadata": {},
   "outputs": [
    {
     "name": "stdout",
     "output_type": "stream",
     "text": [
      "Epoch [1/5], Loss: 0.7802191237608592, accuracy: 0.8456666666666667\n",
      "Epoch [2/5], Loss: 0.7518165146311124, accuracy: 0.84825\n",
      "Epoch [3/5], Loss: 0.7270764688650767, accuracy: 0.8505\n",
      "Epoch [4/5], Loss: 0.7052978043754895, accuracy: 0.8530833333333333\n",
      "Epoch [5/5], Loss: 0.6858918190002441, accuracy: 0.855\n"
     ]
    }
   ],
   "source": [
    "fit(5, model, F.cross_entropy, optimizer, train_loader, val_loader, accuracy)"
   ]
  },
  {
   "cell_type": "code",
   "execution_count": 40,
   "id": "fluid-leather",
   "metadata": {},
   "outputs": [
    {
     "name": "stdout",
     "output_type": "stream",
     "text": [
      "Epoch [1/5], Loss: 0.6685824250181516, accuracy: 0.8563333333333333\n",
      "Epoch [2/5], Loss: 0.653020083407561, accuracy: 0.8579166666666667\n",
      "Epoch [3/5], Loss: 0.6388893857598305, accuracy: 0.8595\n",
      "Epoch [4/5], Loss: 0.6259952445824941, accuracy: 0.8625\n",
      "Epoch [5/5], Loss: 0.6142262811462085, accuracy: 0.8635\n"
     ]
    }
   ],
   "source": [
    "fit(5, model, F.cross_entropy, optimizer, train_loader, val_loader, accuracy)"
   ]
  },
  {
   "cell_type": "code",
   "execution_count": 41,
   "id": "adolescent-wiring",
   "metadata": {},
   "outputs": [],
   "source": [
    "test_dataset = MNIST(root='datasets/',\n",
    "               train=False,\n",
    "               transform=transforms.ToTensor())"
   ]
  },
  {
   "cell_type": "code",
   "execution_count": 42,
   "id": "sonic-provider",
   "metadata": {},
   "outputs": [
    {
     "name": "stdout",
     "output_type": "stream",
     "text": [
      "Shape:  torch.Size([1, 28, 28])\n",
      "Label:  7\n"
     ]
    },
    {
     "data": {
      "image/png": "[encoded data removed]",
      "text/plain": [
       "<Figure size 432x288 with 1 Axes>"
      ]
     },
     "metadata": {
      "needs_background": "light"
     },
     "output_type": "display_data"
    }
   ],
   "source": [
    "img, label = test_dataset[0]\n",
    "plt.imshow(img[0], cmap='gray')\n",
    "print(\"Shape: \", img.shape)\n",
    "print(\"Label: \", label)"
   ]
  },
  {
   "cell_type": "code",
   "execution_count": 43,
   "id": "raising-laptop",
   "metadata": {},
   "outputs": [
    {
     "data": {
      "text/plain": [
       "torch.Size([1, 1, 28, 28])"
      ]
     },
     "execution_count": 43,
     "metadata": {},
     "output_type": "execute_result"
    }
   ],
   "source": [
    "img.unsqueeze(0).shape"
   ]
  },
  {
   "cell_type": "code",
   "execution_count": 44,
   "id": "nervous-conference",
   "metadata": {},
   "outputs": [],
   "source": [
    "def predict_image(img, model):\n",
    "    xb = img.unsqueeze(0)\n",
    "    yb = model(xb)\n",
    "    _, preds = torch.max(yb, dim=1)\n",
    "    return preds[0].item()"
   ]
  },
  {
   "cell_type": "code",
   "execution_count": 45,
   "id": "bored-cheese",
   "metadata": {},
   "outputs": [
    {
     "name": "stdout",
     "output_type": "stream",
     "text": [
      "Label:  7 Predicted:  7\n"
     ]
    },
    {
     "data": {
      "image/png": "[encoded data removed]",
      "text/plain": [
       "<Figure size 432x288 with 1 Axes>"
      ]
     },
     "metadata": {
      "needs_background": "light"
     },
     "output_type": "display_data"
    }
   ],
   "source": [
    "img, label = test_dataset[0]\n",
    "plt.imshow(img[0], cmap='gray')\n",
    "print(\"Label: \", label, 'Predicted: ', predict_image(img, model))"
   ]
  },
  {
   "cell_type": "code",
   "execution_count": 46,
   "id": "young-boston",
   "metadata": {},
   "outputs": [
    {
     "name": "stdout",
     "output_type": "stream",
     "text": [
      "Label:  0 Predicted:  0\n"
     ]
    },
    {
     "data": {
      "image/png": "[encoded data removed]",
      "text/plain": [
       "<Figure size 432x288 with 1 Axes>"
      ]
     },
     "metadata": {
      "needs_background": "light"
     },
     "output_type": "display_data"
    }
   ],
   "source": [
    "img, label = test_dataset[10]\n",
    "plt.imshow(img[0], cmap='gray')\n",
    "print(\"Label: \", label, 'Predicted: ', predict_image(img, model))"
   ]
  },
  {
   "cell_type": "code",
   "execution_count": 53,
   "id": "military-valuable",
   "metadata": {},
   "outputs": [
    {
     "name": "stdout",
     "output_type": "stream",
     "text": [
      "Label:  8 Predicted:  8\n"
     ]
    },
    {
     "data": {
      "image/png": "[encoded data removed]",
      "text/plain": [
       "<Figure size 432x288 with 1 Axes>"
      ]
     },
     "metadata": {
      "needs_background": "light"
     },
     "output_type": "display_data"
    }
   ],
   "source": [
    "img, label = test_dataset[1893]\n",
    "plt.imshow(img[0], cmap='gray')\n",
    "print(\"Label: \", label, 'Predicted: ', predict_image(img, model))"
   ]
  },
  {
   "cell_type": "code",
   "execution_count": 48,
   "id": "lovely-airline",
   "metadata": {},
   "outputs": [
    {
     "name": "stdout",
     "output_type": "stream",
     "text": [
      "Label:  2 Predicted:  8\n"
     ]
    },
    {
     "data": {
      "image/png": "[encoded data removed]",
      "text/plain": [
       "<Figure size 432x288 with 1 Axes>"
      ]
     },
     "metadata": {
      "needs_background": "light"
     },
     "output_type": "display_data"
    }
   ],
   "source": [
    "img, label = test_dataset[1839]\n",
    "plt.imshow(img[0], cmap='gray')\n",
    "print(\"Label: \", label, 'Predicted: ', predict_image(img, model)) # The logistic regression model fails here"
   ]
  },
  {
   "cell_type": "code",
   "execution_count": 49,
   "id": "union-rough",
   "metadata": {},
   "outputs": [
    {
     "name": "stdout",
     "output_type": "stream",
     "text": [
      "Loss:  {0.5976165449619293} Accuracy:  {0.8693}\n"
     ]
    }
   ],
   "source": [
    "test_loader = DataLoader(test_dataset, batch_size=200)\n",
    "test_loss, total, test_acc = evaluate(model, loss_fn, test_loader, metric=accuracy)\n",
    "print(f\"Loss: \", {test_loss}, \"Accuracy: \", {test_acc})"
   ]
  },
  {
   "cell_type": "code",
   "execution_count": 50,
   "id": "biological-magazine",
   "metadata": {},
   "outputs": [],
   "source": [
    "torch.save(model.state_dict(), 'mnist-logistic.pth')"
   ]
  },
  {
   "cell_type": "code",
   "execution_count": 52,
   "id": "interior-bibliography",
   "metadata": {},
   "outputs": [
    {
     "data": {
      "text/plain": [
       "OrderedDict([('linear.weight',\n",
       "              tensor([[ 3.2621e-02, -5.5357e-03, -2.5530e-02,  ..., -2.4965e-02,\n",
       "                        2.2289e-03, -9.5500e-03],\n",
       "                      [ 2.3205e-02,  1.1049e-02,  2.8062e-02,  ..., -1.1249e-03,\n",
       "                        1.5936e-02,  2.0955e-02],\n",
       "                      [ 2.7006e-03, -1.4490e-02,  2.7050e-02,  ...,  1.0522e-02,\n",
       "                       -8.0585e-05,  2.4300e-02],\n",
       "                      ...,\n",
       "                      [-3.4212e-02, -1.7774e-02, -1.1565e-02,  ..., -4.8674e-03,\n",
       "                        1.5116e-02,  1.6424e-02],\n",
       "                      [ 2.6675e-02, -1.1375e-02,  3.0798e-02,  ...,  2.7910e-02,\n",
       "                       -3.1786e-02,  3.1769e-03],\n",
       "                      [ 6.3449e-03, -1.5174e-02, -1.1601e-02,  ..., -4.0739e-04,\n",
       "                        1.2536e-02, -4.4621e-04]])),\n",
       "             ('linear.bias',\n",
       "              tensor([-0.0813,  0.1172, -0.0460, -0.0418,  0.0394,  0.0709, -0.0253,  0.0651,\n",
       "                      -0.1357, -0.0048]))])"
      ]
     },
     "execution_count": 52,
     "metadata": {},
     "output_type": "execute_result"
    }
   ],
   "source": [
    "model.state_dict()"
   ]
  },
  {
   "cell_type": "code",
   "execution_count": null,
   "id": "authentic-kidney",
   "metadata": {},
   "outputs": [],
   "source": []
  }
 ],
 "metadata": {
  "kernelspec": {
   "display_name": "Python 3",
   "language": "python",
   "name": "python3"
  },
  "language_info": {
   "codemirror_mode": {
    "name": "ipython",
    "version": 3
   },
   "file_extension": ".py",
   "mimetype": "text/x-python",
   "name": "python",
   "nbconvert_exporter": "python",
   "pygments_lexer": "ipython3",
   "version": "3.9.1"
  }
 },
 "nbformat": 4,
 "nbformat_minor": 5
}
